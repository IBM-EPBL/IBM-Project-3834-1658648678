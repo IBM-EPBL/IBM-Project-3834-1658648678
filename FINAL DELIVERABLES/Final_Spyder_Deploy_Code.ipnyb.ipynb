{
 "cells": [
  {
   "cell_type": "markdown",
   "metadata": {},
   "source": [
    "{ “cells”: \\[ { “cell_type”: “code”, “execution_count”: null, “id”:\n",
    "“c497eb4d”, “metadata”: {}, “outputs”: \\[\\], “source”: \\[ “import cv2\n",
    "\\#mporting opencv Library this i to open camera and take the video”,\n",
    "“import numpy as np \\# to convert image to array and expand dimensions”,\n",
    "“from tensorflow.keras.models import load_model \\# to Load the saved\n",
    "model”, “from tensorflow.keras.preprocessing import image \\# to\n",
    "preproccess the image”, “model = load_model(\"dataset.h5\") \\# we are\n",
    "loading the saved moodek”, “video = cv2.VideoCapture(0) \\# two\n",
    "parameters 1, bool 0 or 1, frame”, “index =\n",
    "\\[\"A\",\"B\",\"C\",\"D\",\"E\",\"F\",\"G\",\"H\",\"I\"\\]”,\n",
    "“index=\\[‘A’,‘B’,‘C’,‘D’,‘E’,‘F’,‘G’,‘H’,‘I’\\]”, “\\#from playsound\n",
    "import playsound”, “while(1):”, \" success,frame = video.read()“,”\n",
    "cv2.imwrite(\"image.jpg\",frame)“,” img =\n",
    "image.load_img(\"image.jpg\",target_size = (64,64))“,” x =\n",
    "image.img_to_array(img)“,” x = np.expand_dims (x,axis = 0)“,” pred =\n",
    "np.argmax(model.predict(x),axis=1)“,” p = index \\[pred\\[0\\]\\]“,”\n",
    "print(\"predicted letter is: \"+ str(p))“,”\n",
    "\\#playSound(\"letter\"+str(str(index \\[p\\])+\"is detected\"))“,” cv2.putText\n",
    "(frame, \"predicted letter is \"+str(p), (100, 100), cv2.\n",
    "FONT_HERSHEY_SIMPLEX, 1,(0,0,0), 4)“,” cv2.imshow(\"showcasewindow\",\n",
    "frame)“,” “,” if cv2.waitkey(1) & 0xFF == ord(‘a’):“,”\n",
    "break“,”video.release()“,”cv2.destroyAllwindows()\" \\] } \\], “metadata”:\n",
    "{ “kernelspec”: { “display_name”: “Python 3.10.2 64-bit”, “language”:\n",
    "“python”, “name”: “python3” }, “language_info”: { “codemirror_mode”: {\n",
    "“name”: “ipython”, “version”: 3 }, “file_extension”: “.py”, “mimetype”:\n",
    "“text/x-python”, “name”: “python”, “nbconvert_exporter”: “python”,\n",
    "“pygments_lexer”: “ipython3”, “version”: “3.10.2” }, “vscode”: {\n",
    "“interpreter”: { “hash”:\n",
    "“695a388a4c2e020e22268ccf38be8173707e8975f5964aead99e22ad28ea09a9” } }\n",
    "}, “nbformat”: 4, “nbformat_minor”: 5 }"
   ]
  }
 ],
 "nbformat": 4,
 "nbformat_minor": 5,
 "metadata": {}
}
